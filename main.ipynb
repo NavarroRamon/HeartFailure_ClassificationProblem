{
  "nbformat": 4,
  "nbformat_minor": 0,
  "metadata": {
    "colab": {
      "name": "Proyecto_heart.ipynb",
      "provenance": [],
      "collapsed_sections": []
    },
    "kernelspec": {
      "name": "python3",
      "display_name": "Python 3"
    },
    "language_info": {
      "name": "python"
    }
  },
  "cells": [
    {
      "cell_type": "code",
      "metadata": {
        "id": "foUH1R4ICOO2"
      },
      "source": [
        "# Importando las librerias básicas\n",
        "import pandas as pd\n",
        "import numpy as np\n",
        "import matplotlib.pyplot as plt\n",
        "import seaborn as sns"
      ],
      "execution_count": 37,
      "outputs": []
    },
    {
      "cell_type": "code",
      "metadata": {
        "id": "Gl9rs29Pvull"
      },
      "source": [
        "# Código usado para importar datos a google colab\n",
        "from google.colab import files\n",
        "files.upload()"
      ],
      "execution_count": null,
      "outputs": []
    },
    {
      "cell_type": "code",
      "metadata": {
        "id": "Cih7ZNjrwQoY",
        "colab": {
          "base_uri": "https://localhost:8080/"
        },
        "outputId": "06a0a8ed-a246-49f4-9cbc-60433f0449cd"
      },
      "source": [
        "# Cargando el archivo importado, viendo las dos primeras instancias\n",
        "# sus dimensiones y el tipo de datos que contiene\n",
        "data_raw=pd.read_csv(\"heart.csv\")\n",
        "print(\"Las primeras instancias del dataset son:\")\n",
        "print(data_raw.head(5).to_string())\n",
        "print(\"\\n Las dimensiones del dataset son\", data_raw.shape)\n",
        "print(\"\\n Los tipos de datos que incluye el dataset son\", data_raw.shape)\n",
        "print(data_raw.dtypes)\n",
        "# Se verifico que la data era balanceada"
      ],
      "execution_count": 39,
      "outputs": [
        {
          "output_type": "stream",
          "name": "stdout",
          "text": [
            "Las primeras instancias del dataset son:\n",
            "   Age Sex ChestPainType  RestingBP  Cholesterol  FastingBS RestingECG  MaxHR ExerciseAngina  Oldpeak ST_Slope  HeartDisease\n",
            "0   40   M           ATA        140          289          0     Normal    172              N      0.0       Up             0\n",
            "1   49   F           NAP        160          180          0     Normal    156              N      1.0     Flat             1\n",
            "2   37   M           ATA        130          283          0         ST     98              N      0.0       Up             0\n",
            "3   48   F           ASY        138          214          0     Normal    108              Y      1.5     Flat             1\n",
            "4   54   M           NAP        150          195          0     Normal    122              N      0.0       Up             0\n",
            "\n",
            " Las dimensiones del dataset son (918, 12)\n",
            "\n",
            " Los tipos de datos que incluye el dataset son (918, 12)\n",
            "Age                 int64\n",
            "Sex                object\n",
            "ChestPainType      object\n",
            "RestingBP           int64\n",
            "Cholesterol         int64\n",
            "FastingBS           int64\n",
            "RestingECG         object\n",
            "MaxHR               int64\n",
            "ExerciseAngina     object\n",
            "Oldpeak           float64\n",
            "ST_Slope           object\n",
            "HeartDisease        int64\n",
            "dtype: object\n"
          ]
        }
      ]
    },
    {
      "cell_type": "markdown",
      "metadata": {
        "id": "eeV67pjlBSvD"
      },
      "source": [
        "**Clasificación de las variables con las que se cuenta.**\n",
        "\n",
        "---\n",
        "\n",
        "Age            - Cuantitativa \\\\\n",
        "Sex            - Dicotómica \\\\\n",
        "ChestPainType  - Cualitativa \\\\\n",
        "RestingBP      - Cuantitativa \\\\\n",
        "Cholesterol    - Cuantitativa \\\\\n",
        "FastingBS      - Dicotomica \\\\\n",
        "RestingECG     - Cualitativa \\\\\n",
        "MaxHR          - Cuantitativa \\\\\n",
        "ExerciseAngina - Cualitativa \\\\\n",
        "Oldpeak        - Cuantitativa \\\\\n",
        "ST_Slope       - Cualitativa \\\\\n",
        "HeartDisease   - Dicotómica"
      ]
    },
    {
      "cell_type": "code",
      "metadata": {
        "colab": {
          "base_uri": "https://localhost:8080/"
        },
        "id": "SsdCNthQNBOV",
        "outputId": "db23d81a-c9d2-48e3-c513-b967d6d104dd"
      },
      "source": [
        "# Separammos las variables numericas de las no numericas\n",
        "cols = data_raw.columns\n",
        "num_cols = data_raw._get_numeric_data().columns\n",
        "num_cols\n",
        "cat_cols=list(set(cols) - set(num_cols))\n",
        "print(\"Numerical features\", num_cols)\n",
        "print(\"Non-numerical features\", cat_cols)"
      ],
      "execution_count": 40,
      "outputs": [
        {
          "output_type": "stream",
          "name": "stdout",
          "text": [
            "Numerical features Index(['Age', 'RestingBP', 'Cholesterol', 'FastingBS', 'MaxHR', 'Oldpeak',\n",
            "       'HeartDisease'],\n",
            "      dtype='object')\n",
            "Non-numerical features ['ExerciseAngina', 'Sex', 'RestingECG', 'ChestPainType', 'ST_Slope']\n"
          ]
        }
      ]
    },
    {
      "cell_type": "code",
      "metadata": {
        "id": "FJ9OFi0L56bq",
        "colab": {
          "base_uri": "https://localhost:8080/",
          "height": 1000
        },
        "outputId": "b471d1be-63ae-4a3a-9f8a-6acead6e5a5c"
      },
      "source": [
        "# Previsualización de variables numericas para ver distribuciones\n",
        "# además obtenemos estadisticos de cada variable\n",
        "data_raw[num_cols].hist(bins=40, figsize=(20,15))\n",
        "print(\"Numerical Data \\n\", data_raw[num_cols].describe(include=\"all\").to_string(), \"\\n\" )"
      ],
      "execution_count": 58,
      "outputs": [
        {
          "output_type": "stream",
          "name": "stdout",
          "text": [
            "Numerical Data \n",
            "               Age   RestingBP  Cholesterol   FastingBS       MaxHR     Oldpeak  HeartDisease\n",
            "count  918.000000  918.000000   918.000000  918.000000  918.000000  918.000000    918.000000\n",
            "mean    53.510893  132.396514   198.799564    0.233115  136.809368    0.887364      0.553377\n",
            "std      9.432617   18.514154   109.384145    0.423046   25.460334    1.066570      0.497414\n",
            "min     28.000000    0.000000     0.000000    0.000000   60.000000   -2.600000      0.000000\n",
            "25%     47.000000  120.000000   173.250000    0.000000  120.000000    0.000000      0.000000\n",
            "50%     54.000000  130.000000   223.000000    0.000000  138.000000    0.600000      1.000000\n",
            "75%     60.000000  140.000000   267.000000    0.000000  156.000000    1.500000      1.000000\n",
            "max     77.000000  200.000000   603.000000    1.000000  202.000000    6.200000      1.000000 \n",
            "\n"
          ]
        },
        {
          "output_type": "display_data",
          "data": {
            "image/png": "[encoded data removed]",
            "text/plain": [
              "<Figure size 1440x1080 with 9 Axes>"
            ]
          },
          "metadata": {
            "needs_background": "light"
          }
        }
      ]
    },
    {
      "cell_type": "code",
      "metadata": {
        "colab": {
          "base_uri": "https://localhost:8080/"
        },
        "id": "6m1s6r-3LiNK",
        "outputId": "d6e16f52-6d31-44d7-94f8-e13f642bce5e"
      },
      "source": [
        "print(\"Non-Numerical Data \\n\", data_raw[cat_cols].describe(include=\"all\").to_string(), \"\\n\" )\n",
        "# para la data no numerica obtenemes la frecuencia de valores comunes.\n",
        "for i in range(len(cat_cols)):\n",
        "  print(data_raw[cat_cols[i]].value_counts(), \"\\n\")"
      ],
      "execution_count": 52,
      "outputs": [
        {
          "output_type": "stream",
          "name": "stdout",
          "text": [
            "Non-Numerical Data \n",
            "        ExerciseAngina  Sex RestingECG ChestPainType ST_Slope\n",
            "count             918  918        918           918      918\n",
            "unique              2    2          3             4        3\n",
            "top                 N    M     Normal           ASY     Flat\n",
            "freq              547  725        552           496      460 \n",
            "\n",
            "N    547\n",
            "Y    371\n",
            "Name: ExerciseAngina, dtype: int64 \n",
            "\n",
            "M    725\n",
            "F    193\n",
            "Name: Sex, dtype: int64 \n",
            "\n",
            "Normal    552\n",
            "LVH       188\n",
            "ST        178\n",
            "Name: RestingECG, dtype: int64 \n",
            "\n",
            "ASY    496\n",
            "NAP    203\n",
            "ATA    173\n",
            "TA      46\n",
            "Name: ChestPainType, dtype: int64 \n",
            "\n",
            "Flat    460\n",
            "Up      395\n",
            "Down     63\n",
            "Name: ST_Slope, dtype: int64 \n",
            "\n"
          ]
        }
      ]
    },
    {
      "cell_type": "code",
      "metadata": {
        "id": "q-_iVZit9dAx",
        "colab": {
          "base_uri": "https://localhost:8080/",
          "height": 204
        },
        "outputId": "67186bb3-89f0-4fe3-e8c4-e95fc337d757"
      },
      "source": [
        "# Realizamos un LabelEncoder para convertir las variables no numericas\n",
        "# en numericas y poder trabajar con el algoritmo de RFC\n",
        "df=data_raw.copy()\n",
        "from sklearn.preprocessing import LabelEncoder\n",
        "for c in df.columns:\n",
        "    if df[c].dtype=='object':\n",
        "        df[c] = df[c].fillna('NAN')\n",
        "        lbl = LabelEncoder()\n",
        "        lbl.fit(list(df[c].values))\n",
        "        df[c] = lbl.transform(df[c].values)\n",
        "df.head()\n",
        "# Revisamos que se le asignaron valores enteros a las variables no numericas"
      ],
      "execution_count": 61,
      "outputs": [
        {
          "output_type": "execute_result",
          "data": {
            "text/html": [
              "<div>\n",
              "<style scoped>\n",
              "    .dataframe tbody tr th:only-of-type {\n",
              "        vertical-align: middle;\n",
              "    }\n",
              "\n",
              "    .dataframe tbody tr th {\n",
              "        vertical-align: top;\n",
              "    }\n",
              "\n",
              "    .dataframe thead th {\n",
              "        text-align: right;\n",
              "    }\n",
              "</style>\n",
              "<table border=\"1\" class=\"dataframe\">\n",
              "  <thead>\n",
              "    <tr style=\"text-align: right;\">\n",
              "      <th></th>\n",
              "      <th>Age</th>\n",
              "      <th>Sex</th>\n",
              "      <th>ChestPainType</th>\n",
              "      <th>RestingBP</th>\n",
              "      <th>Cholesterol</th>\n",
              "      <th>FastingBS</th>\n",
              "      <th>RestingECG</th>\n",
              "      <th>MaxHR</th>\n",
              "      <th>ExerciseAngina</th>\n",
              "      <th>Oldpeak</th>\n",
              "      <th>ST_Slope</th>\n",
              "      <th>HeartDisease</th>\n",
              "    </tr>\n",
              "  </thead>\n",
              "  <tbody>\n",
              "    <tr>\n",
              "      <th>0</th>\n",
              "      <td>40</td>\n",
              "      <td>1</td>\n",
              "      <td>1</td>\n",
              "      <td>140</td>\n",
              "      <td>289</td>\n",
              "      <td>0</td>\n",
              "      <td>1</td>\n",
              "      <td>172</td>\n",
              "      <td>0</td>\n",
              "      <td>0.0</td>\n",
              "      <td>2</td>\n",
              "      <td>0</td>\n",
              "    </tr>\n",
              "    <tr>\n",
              "      <th>1</th>\n",
              "      <td>49</td>\n",
              "      <td>0</td>\n",
              "      <td>2</td>\n",
              "      <td>160</td>\n",
              "      <td>180</td>\n",
              "      <td>0</td>\n",
              "      <td>1</td>\n",
              "      <td>156</td>\n",
              "      <td>0</td>\n",
              "      <td>1.0</td>\n",
              "      <td>1</td>\n",
              "      <td>1</td>\n",
              "    </tr>\n",
              "    <tr>\n",
              "      <th>2</th>\n",
              "      <td>37</td>\n",
              "      <td>1</td>\n",
              "      <td>1</td>\n",
              "      <td>130</td>\n",
              "      <td>283</td>\n",
              "      <td>0</td>\n",
              "      <td>2</td>\n",
              "      <td>98</td>\n",
              "      <td>0</td>\n",
              "      <td>0.0</td>\n",
              "      <td>2</td>\n",
              "      <td>0</td>\n",
              "    </tr>\n",
              "    <tr>\n",
              "      <th>3</th>\n",
              "      <td>48</td>\n",
              "      <td>0</td>\n",
              "      <td>0</td>\n",
              "      <td>138</td>\n",
              "      <td>214</td>\n",
              "      <td>0</td>\n",
              "      <td>1</td>\n",
              "      <td>108</td>\n",
              "      <td>1</td>\n",
              "      <td>1.5</td>\n",
              "      <td>1</td>\n",
              "      <td>1</td>\n",
              "    </tr>\n",
              "    <tr>\n",
              "      <th>4</th>\n",
              "      <td>54</td>\n",
              "      <td>1</td>\n",
              "      <td>2</td>\n",
              "      <td>150</td>\n",
              "      <td>195</td>\n",
              "      <td>0</td>\n",
              "      <td>1</td>\n",
              "      <td>122</td>\n",
              "      <td>0</td>\n",
              "      <td>0.0</td>\n",
              "      <td>2</td>\n",
              "      <td>0</td>\n",
              "    </tr>\n",
              "  </tbody>\n",
              "</table>\n",
              "</div>"
            ],
            "text/plain": [
              "   Age  Sex  ChestPainType  ...  Oldpeak  ST_Slope  HeartDisease\n",
              "0   40    1              1  ...      0.0         2             0\n",
              "1   49    0              2  ...      1.0         1             1\n",
              "2   37    1              1  ...      0.0         2             0\n",
              "3   48    0              0  ...      1.5         1             1\n",
              "4   54    1              2  ...      0.0         2             0\n",
              "\n",
              "[5 rows x 12 columns]"
            ]
          },
          "metadata": {},
          "execution_count": 61
        }
      ]
    },
    {
      "cell_type": "code",
      "metadata": {
        "id": "IhHFWG6YPX7W",
        "colab": {
          "base_uri": "https://localhost:8080/"
        },
        "outputId": "ab5242de-7a2b-44ce-a97a-983157036dc1"
      },
      "source": [
        "# Como observamos anteriormente en los datos de colesterol se encontraba un grupo\n",
        "# atípico así que revisaremos sus caracteristicas\n",
        "print(\"El numero de valores diferentes en cholesterol menores de 70 es:\", df[df['Cholesterol']<70]['Cholesterol'].nunique())\n",
        "df[df['Cholesterol']<70].describe()\n",
        "# Se encontró que los valores eran 0, no corresponden con valores reales por lo que \n",
        "# se asume que se trataron de valores perdidos.\n",
        "\n",
        "# De igual forma en Oldpeak se encuentran algunos datos negativos que pueden\n",
        "# ser eliminados\n",
        "print(\"El numero de valores menores que 0 en Oldpeak es: \", df[df['Oldpeak']<0]['Oldpeak'].nunique())"
      ],
      "execution_count": 66,
      "outputs": [
        {
          "output_type": "stream",
          "name": "stdout",
          "text": [
            "El numero de valores diferentes en cholesterol menores de 70 es: 1\n",
            "El numero de valores menores que 0 en Oldpeak es:  10\n"
          ]
        }
      ]
    },
    {
      "cell_type": "code",
      "metadata": {
        "id": "or_d2XSVjGE8",
        "colab": {
          "base_uri": "https://localhost:8080/",
          "height": 545
        },
        "outputId": "eba3a9b3-352b-4475-957c-8ad5baa90027"
      },
      "source": [
        "# Como los valores representaban menos del 20% de la data y aún eliminandolos\n",
        "# tendriamos un volumen considerable para trabajar, aquí se elimina ese grupo\n",
        "df=df[df['Cholesterol']>70]\n",
        "df=df[df['Cholesterol']<466]\n",
        "# Similar para el caso de Oldpeak valores negativos parecen no tener un significado\n",
        "# médico real por lo que se consideran outliers y se eliminan (son solo 13 datos).\n",
        "df=df[df['Oldpeak']>=0]\n",
        "# Revisamos que ahora los datos de cholesterol cumplen una distribucion mas cercana a la normal\n",
        "df[\"Cholesterol\"].plot.hist()\n",
        "df.describe()"
      ],
      "execution_count": 67,
      "outputs": [
        {
          "output_type": "execute_result",
          "data": {
            "text/html": [
              "<div>\n",
              "<style scoped>\n",
              "    .dataframe tbody tr th:only-of-type {\n",
              "        vertical-align: middle;\n",
              "    }\n",
              "\n",
              "    .dataframe tbody tr th {\n",
              "        vertical-align: top;\n",
              "    }\n",
              "\n",
              "    .dataframe thead th {\n",
              "        text-align: right;\n",
              "    }\n",
              "</style>\n",
              "<table border=\"1\" class=\"dataframe\">\n",
              "  <thead>\n",
              "    <tr style=\"text-align: right;\">\n",
              "      <th></th>\n",
              "      <th>Age</th>\n",
              "      <th>Sex</th>\n",
              "      <th>ChestPainType</th>\n",
              "      <th>RestingBP</th>\n",
              "      <th>Cholesterol</th>\n",
              "      <th>FastingBS</th>\n",
              "      <th>RestingECG</th>\n",
              "      <th>MaxHR</th>\n",
              "      <th>ExerciseAngina</th>\n",
              "      <th>Oldpeak</th>\n",
              "      <th>ST_Slope</th>\n",
              "      <th>HeartDisease</th>\n",
              "    </tr>\n",
              "  </thead>\n",
              "  <tbody>\n",
              "    <tr>\n",
              "      <th>count</th>\n",
              "      <td>738.000000</td>\n",
              "      <td>738.000000</td>\n",
              "      <td>738.000000</td>\n",
              "      <td>738.000000</td>\n",
              "      <td>738.000000</td>\n",
              "      <td>738.000000</td>\n",
              "      <td>738.000000</td>\n",
              "      <td>738.000000</td>\n",
              "      <td>738.000000</td>\n",
              "      <td>738.000000</td>\n",
              "      <td>738.000000</td>\n",
              "      <td>738.000000</td>\n",
              "    </tr>\n",
              "    <tr>\n",
              "      <th>mean</th>\n",
              "      <td>52.943089</td>\n",
              "      <td>0.756098</td>\n",
              "      <td>0.840108</td>\n",
              "      <td>133.111111</td>\n",
              "      <td>242.138211</td>\n",
              "      <td>0.166667</td>\n",
              "      <td>0.930894</td>\n",
              "      <td>140.239837</td>\n",
              "      <td>0.386179</td>\n",
              "      <td>0.906640</td>\n",
              "      <td>1.411924</td>\n",
              "      <td>0.475610</td>\n",
              "    </tr>\n",
              "    <tr>\n",
              "      <th>std</th>\n",
              "      <td>9.471489</td>\n",
              "      <td>0.429726</td>\n",
              "      <td>0.958524</td>\n",
              "      <td>17.322188</td>\n",
              "      <td>52.736022</td>\n",
              "      <td>0.372931</td>\n",
              "      <td>0.633180</td>\n",
              "      <td>24.620059</td>\n",
              "      <td>0.487203</td>\n",
              "      <td>1.075657</td>\n",
              "      <td>0.599384</td>\n",
              "      <td>0.499743</td>\n",
              "    </tr>\n",
              "    <tr>\n",
              "      <th>min</th>\n",
              "      <td>28.000000</td>\n",
              "      <td>0.000000</td>\n",
              "      <td>0.000000</td>\n",
              "      <td>92.000000</td>\n",
              "      <td>85.000000</td>\n",
              "      <td>0.000000</td>\n",
              "      <td>0.000000</td>\n",
              "      <td>69.000000</td>\n",
              "      <td>0.000000</td>\n",
              "      <td>0.000000</td>\n",
              "      <td>0.000000</td>\n",
              "      <td>0.000000</td>\n",
              "    </tr>\n",
              "    <tr>\n",
              "      <th>25%</th>\n",
              "      <td>46.000000</td>\n",
              "      <td>1.000000</td>\n",
              "      <td>0.000000</td>\n",
              "      <td>120.000000</td>\n",
              "      <td>207.000000</td>\n",
              "      <td>0.000000</td>\n",
              "      <td>1.000000</td>\n",
              "      <td>122.000000</td>\n",
              "      <td>0.000000</td>\n",
              "      <td>0.000000</td>\n",
              "      <td>1.000000</td>\n",
              "      <td>0.000000</td>\n",
              "    </tr>\n",
              "    <tr>\n",
              "      <th>50%</th>\n",
              "      <td>54.000000</td>\n",
              "      <td>1.000000</td>\n",
              "      <td>1.000000</td>\n",
              "      <td>130.000000</td>\n",
              "      <td>237.000000</td>\n",
              "      <td>0.000000</td>\n",
              "      <td>1.000000</td>\n",
              "      <td>140.000000</td>\n",
              "      <td>0.000000</td>\n",
              "      <td>0.500000</td>\n",
              "      <td>1.000000</td>\n",
              "      <td>0.000000</td>\n",
              "    </tr>\n",
              "    <tr>\n",
              "      <th>75%</th>\n",
              "      <td>59.000000</td>\n",
              "      <td>1.000000</td>\n",
              "      <td>2.000000</td>\n",
              "      <td>140.000000</td>\n",
              "      <td>274.750000</td>\n",
              "      <td>0.000000</td>\n",
              "      <td>1.000000</td>\n",
              "      <td>160.000000</td>\n",
              "      <td>1.000000</td>\n",
              "      <td>1.500000</td>\n",
              "      <td>2.000000</td>\n",
              "      <td>1.000000</td>\n",
              "    </tr>\n",
              "    <tr>\n",
              "      <th>max</th>\n",
              "      <td>77.000000</td>\n",
              "      <td>1.000000</td>\n",
              "      <td>3.000000</td>\n",
              "      <td>200.000000</td>\n",
              "      <td>458.000000</td>\n",
              "      <td>1.000000</td>\n",
              "      <td>2.000000</td>\n",
              "      <td>202.000000</td>\n",
              "      <td>1.000000</td>\n",
              "      <td>6.200000</td>\n",
              "      <td>2.000000</td>\n",
              "      <td>1.000000</td>\n",
              "    </tr>\n",
              "  </tbody>\n",
              "</table>\n",
              "</div>"
            ],
            "text/plain": [
              "              Age         Sex  ...    ST_Slope  HeartDisease\n",
              "count  738.000000  738.000000  ...  738.000000    738.000000\n",
              "mean    52.943089    0.756098  ...    1.411924      0.475610\n",
              "std      9.471489    0.429726  ...    0.599384      0.499743\n",
              "min     28.000000    0.000000  ...    0.000000      0.000000\n",
              "25%     46.000000    1.000000  ...    1.000000      0.000000\n",
              "50%     54.000000    1.000000  ...    1.000000      0.000000\n",
              "75%     59.000000    1.000000  ...    2.000000      1.000000\n",
              "max     77.000000    1.000000  ...    2.000000      1.000000\n",
              "\n",
              "[8 rows x 12 columns]"
            ]
          },
          "metadata": {},
          "execution_count": 67
        },
        {
          "output_type": "display_data",
          "data": {
            "image/png": "[encoded data removed]",
            "text/plain": [
              "<Figure size 432x288 with 1 Axes>"
            ]
          },
          "metadata": {
            "needs_background": "light"
          }
        }
      ]
    },
    {
      "cell_type": "code",
      "metadata": {
        "colab": {
          "base_uri": "https://localhost:8080/"
        },
        "id": "SK_G6D87qiFT",
        "outputId": "5083d02d-28ce-4658-cd41-9e0cd222c634"
      },
      "source": [
        "# Separamos la data en dos grupos disease y no disease y obtenemos valores estadisticos.\n",
        "disease=df[df[\"HeartDisease\"]==1]\n",
        "notdisease=df[df[\"HeartDisease\"]==0]\n",
        "print(\"Heart disease data \\n\"  + disease.describe().to_string())\n",
        "print(\"\\nNo Heart disease data \\n\"  +notdisease.describe().to_string())"
      ],
      "execution_count": 69,
      "outputs": [
        {
          "output_type": "stream",
          "name": "stdout",
          "text": [
            "Heart disease data \n",
            "              Age         Sex  ChestPainType   RestingBP  Cholesterol  FastingBS  RestingECG       MaxHR  ExerciseAngina     Oldpeak    ST_Slope  HeartDisease\n",
            "count  351.000000  351.000000     351.000000  351.000000   351.000000  351.00000  351.000000  351.000000      351.000000  351.000000  351.000000         351.0\n",
            "mean    56.011396    0.886040       0.444444  136.247863   247.210826    0.22792    0.937322  130.495726        0.669516    1.472934    1.037037           1.0\n",
            "std      8.724343    0.318216       0.872872   18.034842    53.551695    0.42009    0.689971   22.425479        0.471059    1.148033    0.467573           0.0\n",
            "min     31.000000    0.000000       0.000000   92.000000   100.000000    0.00000    0.000000   71.000000        0.000000    0.000000    0.000000           1.0\n",
            "25%     50.000000    1.000000       0.000000  124.000000   212.000000    0.00000    0.000000  115.000000        0.000000    0.600000    1.000000           1.0\n",
            "50%     57.000000    1.000000       0.000000  136.000000   246.000000    0.00000    1.000000  130.000000        1.000000    1.500000    1.000000           1.0\n",
            "75%     62.000000    1.000000       0.000000  145.000000   282.000000    0.00000    1.000000  147.000000        1.000000    2.000000    1.000000           1.0\n",
            "max     77.000000    1.000000       3.000000  200.000000   409.000000    1.00000    2.000000  195.000000        1.000000    6.200000    2.000000           1.0\n",
            "\n",
            "No Heart disease data \n",
            "              Age         Sex  ChestPainType   RestingBP  Cholesterol   FastingBS  RestingECG       MaxHR  ExerciseAngina     Oldpeak    ST_Slope  HeartDisease\n",
            "count  387.000000  387.000000     387.000000  387.000000   387.000000  387.000000  387.000000  387.000000      387.000000  387.000000  387.000000         387.0\n",
            "mean    50.160207    0.638243       1.198966  130.266150   237.537468    0.111111    0.925065  149.077519        0.129199    0.393023    1.751938           0.0\n",
            "std      9.270554    0.481131       0.889897   16.153216    51.624245    0.314677    0.577710   23.166534        0.335854    0.676763    0.493969           0.0\n",
            "min     28.000000    0.000000       0.000000   94.000000    85.000000    0.000000    0.000000   69.000000        0.000000    0.000000    0.000000           0.0\n",
            "25%     43.000000    0.000000       1.000000  120.000000   203.000000    0.000000    1.000000  135.000000        0.000000    0.000000    2.000000           0.0\n",
            "50%     51.000000    1.000000       1.000000  130.000000   231.000000    0.000000    1.000000  150.000000        0.000000    0.000000    2.000000           0.0\n",
            "75%     56.000000    1.000000       2.000000  140.000000   269.000000    0.000000    1.000000  167.500000        0.000000    0.600000    2.000000           0.0\n",
            "max     76.000000    1.000000       3.000000  190.000000   458.000000    1.000000    2.000000  202.000000        1.000000    4.200000    2.000000           0.0\n"
          ]
        }
      ]
    },
    {
      "cell_type": "code",
      "metadata": {
        "id": "vOkKrNMABSi0",
        "colab": {
          "base_uri": "https://localhost:8080/",
          "height": 1000
        },
        "outputId": "21dbb717-45ad-4d58-fbae-ccb944ac6551"
      },
      "source": [
        "# Se realiza nuevamente visualizaciónes comparando ambos grupos\n",
        "# Variables cuantitativas\n",
        "tags=[\"Age\", \"RestingBP\", \"Cholesterol\", \"MaxHR\", \"Oldpeak\"]\n",
        "for c in tags:\n",
        "    plt.figure(figsize=(16,4))\n",
        "    ax = sns.histplot(disease[c])\n",
        "    ax = sns.histplot(notdisease[c],color=\"red\")\n",
        "    ax.set_title(f\"Distribucion para '{c}' Azul=Disease, Rojo= No disease\",size=14, fontweight='bold')\n",
        "    plt.show()"
      ],
      "execution_count": 70,
      "outputs": [
        {
          "output_type": "display_data",
          "data": {
            "image/png": "[encoded data removed]",
            "text/plain": [
              "<Figure size 1152x288 with 1 Axes>"
            ]
          },
          "metadata": {
            "needs_background": "light"
          }
        },
        {
          "output_type": "display_data",
          "data": {
            "image/png": "[encoded data removed]",
            "text/plain": [
              "<Figure size 1152x288 with 1 Axes>"
            ]
          },
          "metadata": {
            "needs_background": "light"
          }
        },
        {
          "output_type": "display_data",
          "data": {
            "image/png": "[encoded data removed]",
            "text/plain": [
              "<Figure size 1152x288 with 1 Axes>"
            ]
          },
          "metadata": {
            "needs_background": "light"
          }
        },
        {
          "output_type": "display_data",
          "data": {
            "image/png": "[encoded data removed]",
            "text/plain": [
              "<Figure size 1152x288 with 1 Axes>"
            ]
          },
          "metadata": {
            "needs_background": "light"
          }
        },
        {
          "output_type": "display_data",
          "data": {
            "image/png": "[encoded data removed]",
            "text/plain": [
              "<Figure size 1152x288 with 1 Axes>"
            ]
          },
          "metadata": {
            "needs_background": "light"
          }
        }
      ]
    },
    {
      "cell_type": "code",
      "metadata": {
        "id": "XYmcNL764K2v"
      },
      "source": [
        "# Seleccionamos la data para entrenar el modelo\n",
        "y=df[\"HeartDisease\"]\n",
        "x=df[ [\"Age\",\"ChestPainType\",\"RestingBP\",\"Cholesterol\",\"FastingBS\",            \\\n",
        "       \"RestingECG\",\"MaxHR\", \"Oldpeak\",\"ST_Slope\",\"ExerciseAngina\",\"Sex\"] ]\n",
        "# Nota : Otro grupo de variables que presentaron resultados favorables en \n",
        "# el entrenamiento del algoritmo fueron\n",
        "# [\"ChestPainType\",\"MaxHR\",\"ExerciseAngina\",\"ST_Slope\",\"Cholesterol\",\"Oldpeak\"]"
      ],
      "execution_count": 71,
      "outputs": []
    },
    {
      "cell_type": "code",
      "metadata": {
        "id": "ya6vcW-g9Bwl"
      },
      "source": [
        "# Separamos la data en data de entrenamiento y de validacion (test)\n",
        "from sklearn.model_selection import train_test_split as tts\n",
        "from sklearn.ensemble import RandomForestClassifier as RFC\n",
        "from sklearn.metrics import confusion_matrix, precision_score\n",
        "X_train, X_test, y_train, y_test = tts(x , y, test_size=0.2)"
      ],
      "execution_count": 72,
      "outputs": []
    },
    {
      "cell_type": "code",
      "metadata": {
        "colab": {
          "base_uri": "https://localhost:8080/"
        },
        "id": "lG8wuxBKs9GV",
        "outputId": "b7a65355-be28-42f8-c762-b53bbc582ea5"
      },
      "source": [
        "# Train the algorithm\n",
        "# El procedimiento para optimizar parámetros del modelo se realizó por fuerza bruta\n",
        "# no se incluye de forma explicita el código aquí, se encontró que un valor\n",
        "# adecuado para el numero de estimadores era de 200\n",
        "# En cuanto al criterio del algoritmo se probaron el criterio de entropia y gini\n",
        "# no encontrando diferencias significativas entre ambos.\n",
        "model=RFC(n_estimators=200, criterion =\"entropy\")\n",
        "model.fit(X_train, y_train)\n",
        "# Realizamos una predicción\n",
        "y_pred= model.predict(X_test)\n",
        "# Realizamos la validación y un plot de la matriz de confusion,\n",
        "# la diagonal son los valores acertados por la prediccion y la antidiagonal los errores.\n",
        "matriz= confusion_matrix(y_test, y_pred)\n",
        "print(\"\\n matriz de confusión\\n\")\n",
        "print(matriz)\n",
        "score= precision_score(y_test,y_pred)\n",
        "print(\"\\n presicion del modelo \\n\", score)"
      ],
      "execution_count": 73,
      "outputs": [
        {
          "output_type": "stream",
          "name": "stdout",
          "text": [
            "\n",
            " matriz de confusión\n",
            "\n",
            "[[70  7]\n",
            " [12 59]]\n",
            "\n",
            " presicion del modelo \n",
            " 0.8939393939393939\n"
          ]
        }
      ]
    },
    {
      "cell_type": "code",
      "metadata": {
        "id": "vz1df1YwbVLO",
        "colab": {
          "base_uri": "https://localhost:8080/",
          "height": 337
        },
        "outputId": "e4600baa-27d4-4d9c-b194-497dbb9f06c2"
      },
      "source": [
        "from sklearn.feature_selection import SelectFromModel\n",
        "import numpy as np\n",
        "\n",
        "sfm = SelectFromModel(model)\n",
        "sfm.fit(X_train, y_train)\n",
        "index = np.argsort(sfm.estimator_.feature_importances_)[::-1]\n",
        "plt.figure(figsize=(15, 5))\n",
        "plt.title('Feature importance')\n",
        "plt.bar(X_train.columns[index], sfm.estimator_.feature_importances_[index])\n",
        "plt.show()"
      ],
      "execution_count": 82,
      "outputs": [
        {
          "output_type": "display_data",
          "data": {
            "image/png": "[encoded data removed]",
            "text/plain": [
              "<Figure size 1080x360 with 1 Axes>"
            ]
          },
          "metadata": {
            "needs_background": "light"
          }
        }
      ]
    }
  ]
}