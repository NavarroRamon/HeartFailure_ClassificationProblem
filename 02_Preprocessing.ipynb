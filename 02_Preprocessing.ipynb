{
  "nbformat": 4,
  "nbformat_minor": 0,
  "metadata": {
    "colab": {
      "name": "02_Preprocessing.ipynb",
      "provenance": [],
      "collapsed_sections": []
    },
    "kernelspec": {
      "name": "python3",
      "display_name": "Python 3"
    },
    "language_info": {
      "name": "python"
    }
  },
  "cells": [
    {
      "cell_type": "code",
      "metadata": {
        "id": "foUH1R4ICOO2"
      },
      "source": [
        "# Importando las librerias básicas\n",
        "import pandas as pd\n",
        "import numpy as np\n",
        "import matplotlib.pyplot as plt\n",
        "import seaborn as sns\n",
        "import warnings\n",
        "warnings.filterwarnings(\"ignore\")"
      ],
      "execution_count": 72,
      "outputs": []
    },
    {
      "cell_type": "markdown",
      "metadata": {
        "id": "FNu9jqVQPoxa"
      },
      "source": [
        "**Eliminando datos atípicos y que carecen de sentido**\n",
        "---\n",
        "\n",
        "---\n"
      ]
    },
    {
      "cell_type": "code",
      "metadata": {
        "id": "Cih7ZNjrwQoY",
        "colab": {
          "base_uri": "https://localhost:8080/"
        },
        "outputId": "143af737-004d-495d-fd8b-ac0fbb580af5"
      },
      "source": [
        "df=pd.read_csv(\"heart.csv\")\n",
        "# Como observamos anteriormente en los datos de colesterol se encontraba un grupo\n",
        "# atípico así que revisaremos sus caracteristicas\n",
        "print(\"El numero de valores diferentes en Cholesterol menores de 50 es:\", df[df['Cholesterol']<50]['Cholesterol'].nunique())\n",
        "print(\"La cantidad de datos menores de 50 es: \", df[df['Cholesterol']<50]['Cholesterol'].count(), \"\\n\")\n",
        "# Se encontró que los valores eran 0, no corresponden con valores reales por lo que \n",
        "# se asume que se trataron de valores perdidos.\n",
        "# De igual forma en Oldpeak se encuentran algunos datos negativos\n",
        "print(\"El numero de valores diferentes menores que 0 en Oldpeak es: \", df[df['Oldpeak']<0]['Oldpeak'].nunique())\n",
        "print(\"La cantidad de datos menores de 50 es: \", df[df['Oldpeak']<0]['Oldpeak'].count())"
      ],
      "execution_count": 95,
      "outputs": [
        {
          "output_type": "stream",
          "name": "stdout",
          "text": [
            "El numero de valores diferentes en Cholesterol menores de 50 es: 1\n",
            "La cantidad de datos menores de 50 es:  172 \n",
            "\n",
            "El numero de valores diferentes menores que 0 en Oldpeak es:  10\n",
            "La cantidad de datos menores de 50 es:  13\n"
          ]
        }
      ]
    },
    {
      "cell_type": "code",
      "metadata": {
        "colab": {
          "base_uri": "https://localhost:8080/",
          "height": 269
        },
        "id": "AoUhi9BsOurk",
        "outputId": "e1eda51b-bdfe-43ee-9630-cb686996489b"
      },
      "source": [
        "# Como los valores representaban menos del 20% de la data y aún eliminandolos\n",
        "# tendriamos un volumen considerable para trabajar, aquí se elimina ese grupo\n",
        "df=df[df['Cholesterol']>50]\n",
        "# Similar para el caso de Oldpeak valores negativos parecen no tener un significado\n",
        "# médico real por lo que se consideran outliers y se eliminan (son solo 13 datos).\n",
        "df=df[df['Oldpeak']>=0]\n",
        "df.describe().T"
      ],
      "execution_count": 96,
      "outputs": [
        {
          "output_type": "execute_result",
          "data": {
            "text/html": [
              "<div>\n",
              "<style scoped>\n",
              "    .dataframe tbody tr th:only-of-type {\n",
              "        vertical-align: middle;\n",
              "    }\n",
              "\n",
              "    .dataframe tbody tr th {\n",
              "        vertical-align: top;\n",
              "    }\n",
              "\n",
              "    .dataframe thead th {\n",
              "        text-align: right;\n",
              "    }\n",
              "</style>\n",
              "<table border=\"1\" class=\"dataframe\">\n",
              "  <thead>\n",
              "    <tr style=\"text-align: right;\">\n",
              "      <th></th>\n",
              "      <th>count</th>\n",
              "      <th>mean</th>\n",
              "      <th>std</th>\n",
              "      <th>min</th>\n",
              "      <th>25%</th>\n",
              "      <th>50%</th>\n",
              "      <th>75%</th>\n",
              "      <th>max</th>\n",
              "    </tr>\n",
              "  </thead>\n",
              "  <tbody>\n",
              "    <tr>\n",
              "      <th>Age</th>\n",
              "      <td>745.0</td>\n",
              "      <td>52.906040</td>\n",
              "      <td>9.489625</td>\n",
              "      <td>28.0</td>\n",
              "      <td>46.0</td>\n",
              "      <td>54.0</td>\n",
              "      <td>59.0</td>\n",
              "      <td>77.0</td>\n",
              "    </tr>\n",
              "    <tr>\n",
              "      <th>RestingBP</th>\n",
              "      <td>745.0</td>\n",
              "      <td>133.036242</td>\n",
              "      <td>17.290451</td>\n",
              "      <td>92.0</td>\n",
              "      <td>120.0</td>\n",
              "      <td>130.0</td>\n",
              "      <td>140.0</td>\n",
              "      <td>200.0</td>\n",
              "    </tr>\n",
              "    <tr>\n",
              "      <th>Cholesterol</th>\n",
              "      <td>745.0</td>\n",
              "      <td>244.747651</td>\n",
              "      <td>59.113689</td>\n",
              "      <td>85.0</td>\n",
              "      <td>208.0</td>\n",
              "      <td>237.0</td>\n",
              "      <td>275.0</td>\n",
              "      <td>603.0</td>\n",
              "    </tr>\n",
              "    <tr>\n",
              "      <th>FastingBS</th>\n",
              "      <td>745.0</td>\n",
              "      <td>0.167785</td>\n",
              "      <td>0.373927</td>\n",
              "      <td>0.0</td>\n",
              "      <td>0.0</td>\n",
              "      <td>0.0</td>\n",
              "      <td>0.0</td>\n",
              "      <td>1.0</td>\n",
              "    </tr>\n",
              "    <tr>\n",
              "      <th>MaxHR</th>\n",
              "      <td>745.0</td>\n",
              "      <td>140.209396</td>\n",
              "      <td>24.536108</td>\n",
              "      <td>69.0</td>\n",
              "      <td>122.0</td>\n",
              "      <td>140.0</td>\n",
              "      <td>160.0</td>\n",
              "      <td>202.0</td>\n",
              "    </tr>\n",
              "    <tr>\n",
              "      <th>Oldpeak</th>\n",
              "      <td>745.0</td>\n",
              "      <td>0.902953</td>\n",
              "      <td>1.072953</td>\n",
              "      <td>0.0</td>\n",
              "      <td>0.0</td>\n",
              "      <td>0.5</td>\n",
              "      <td>1.5</td>\n",
              "      <td>6.2</td>\n",
              "    </tr>\n",
              "    <tr>\n",
              "      <th>HeartDisease</th>\n",
              "      <td>745.0</td>\n",
              "      <td>0.477852</td>\n",
              "      <td>0.499845</td>\n",
              "      <td>0.0</td>\n",
              "      <td>0.0</td>\n",
              "      <td>0.0</td>\n",
              "      <td>1.0</td>\n",
              "      <td>1.0</td>\n",
              "    </tr>\n",
              "  </tbody>\n",
              "</table>\n",
              "</div>"
            ],
            "text/plain": [
              "              count        mean        std   min    25%    50%    75%    max\n",
              "Age           745.0   52.906040   9.489625  28.0   46.0   54.0   59.0   77.0\n",
              "RestingBP     745.0  133.036242  17.290451  92.0  120.0  130.0  140.0  200.0\n",
              "Cholesterol   745.0  244.747651  59.113689  85.0  208.0  237.0  275.0  603.0\n",
              "FastingBS     745.0    0.167785   0.373927   0.0    0.0    0.0    0.0    1.0\n",
              "MaxHR         745.0  140.209396  24.536108  69.0  122.0  140.0  160.0  202.0\n",
              "Oldpeak       745.0    0.902953   1.072953   0.0    0.0    0.5    1.5    6.2\n",
              "HeartDisease  745.0    0.477852   0.499845   0.0    0.0    0.0    1.0    1.0"
            ]
          },
          "metadata": {},
          "execution_count": 96
        }
      ]
    },
    {
      "cell_type": "code",
      "metadata": {
        "id": "qWv5sR8Vtr0y"
      },
      "source": [
        "df.to_csv(\"df_heartfailure.csv\")"
      ],
      "execution_count": 100,
      "outputs": []
    },
    {
      "cell_type": "markdown",
      "metadata": {
        "id": "72pfzhFIWdfb"
      },
      "source": [
        "**OBSERVACIONES**\n",
        "---\n",
        "\n",
        "---\n",
        "\n",
        "\n",
        "\n",
        "1.   Un total de 173 datos fueron eliminados.\n",
        "2.   El numero de instancias final fue de 745.\n",
        "3.   Ya no se tienen datos que carezcan de sentido en las variables de Cholesterol y Oldpeak.\n"
      ]
    }
  ]
}